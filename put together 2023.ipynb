{
 "cells": [
  {
   "cell_type": "code",
   "execution_count": 1,
   "metadata": {
    "collapsed": true
   },
   "outputs": [
    {
     "name": "stdout",
     "output_type": "stream",
     "text": [
      "<function api at 0x12316f130>\n"
     ]
    }
   ],
   "source": [
    "import models\n",
    "import pandas as pd\n",
    "from nltk.corpus import wordnet\n",
    "import os\n",
    "import openai\n",
    "from AI import *\n",
    "import gspread\n",
    "from oauth2client import service_account as sv_acc\n",
    "\n",
    "df = models.api"
   ]
  },
  {
   "cell_type": "code",
   "execution_count": 2,
   "outputs": [
    {
     "data": {
      "text/plain": "           Event                                           Response Rating\n0      Assembly   We planned the event in the classroom. It was ...       \n1  Late Knighter  Karoke: It was very fun and well participated!...       ",
      "text/html": "<div>\n<style scoped>\n    .dataframe tbody tr th:only-of-type {\n        vertical-align: middle;\n    }\n\n    .dataframe tbody tr th {\n        vertical-align: top;\n    }\n\n    .dataframe thead th {\n        text-align: right;\n    }\n</style>\n<table border=\"1\" class=\"dataframe\">\n  <thead>\n    <tr style=\"text-align: right;\">\n      <th></th>\n      <th>Event</th>\n      <th>Response</th>\n      <th>Rating</th>\n    </tr>\n  </thead>\n  <tbody>\n    <tr>\n      <th>0</th>\n      <td>Assembly</td>\n      <td>We planned the event in the classroom. It was ...</td>\n      <td></td>\n    </tr>\n    <tr>\n      <th>1</th>\n      <td>Late Knighter</td>\n      <td>Karoke: It was very fun and well participated!...</td>\n      <td></td>\n    </tr>\n  </tbody>\n</table>\n</div>"
     },
     "execution_count": 2,
     "metadata": {},
     "output_type": "execute_result"
    }
   ],
   "source": [
    "scopes = {\n",
    "    'https://www.googleapis.com/auth/spreadsheets',\n",
    "    'https://www.googleapis.com/auth/drive'\n",
    "}\n",
    "\n",
    "# sheet_id = \"1l6DpBYExqIDhcaa7hk7Aza1LTUzwdF8UVMfM4exNXkA\"\n",
    "# sheet_name = \"Form Responses 1\"\n",
    "# sheet_url = \"https://docs.google.com/spreadsheets/d/{}/gviz/tq?tqx=out:csv&sheet={}\".format(sheet_id, sheet_name)\n",
    "# df = pd.read\n",
    "\n",
    "creds = sv_acc.ServiceAccountCredentials.from_json_keyfile_name('credentials.json', scopes=scopes)\n",
    "\n",
    "# read data from sheet into a pandas dataframe\n",
    "file = gspread.authorize(creds)\n",
    "worksheet = file.open('Analysis of things that make an event successful  (Responses)').sheet1\n",
    "data = worksheet.get_all_values()\n",
    "headers = data.pop(0)\n",
    "df = pd.DataFrame(data, columns=headers)\n",
    "# df.drop(columns=['Time'])\n",
    "\n",
    "new_df = pd.DataFrame(df, columns=['Event', 'Response', \"Rating\"])\n",
    "\n",
    "new_df"
   ],
   "metadata": {
    "collapsed": false
   }
  },
  {
   "cell_type": "code",
   "execution_count": null,
   "outputs": [],
   "source": [],
   "metadata": {
    "collapsed": false
   }
  }
 ],
 "metadata": {
  "kernelspec": {
   "display_name": "Python 3",
   "language": "python",
   "name": "python3"
  },
  "language_info": {
   "codemirror_mode": {
    "name": "ipython",
    "version": 2
   },
   "file_extension": ".py",
   "mimetype": "text/x-python",
   "name": "python",
   "nbconvert_exporter": "python",
   "pygments_lexer": "ipython2",
   "version": "2.7.6"
  }
 },
 "nbformat": 4,
 "nbformat_minor": 0
}
